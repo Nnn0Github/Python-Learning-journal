{
 "cells": [
  {
   "cell_type": "code",
   "execution_count": 7,
   "id": "9ff149ad-1fdc-4341-805b-780609f348d4",
   "metadata": {},
   "outputs": [
    {
     "name": "stdout",
     "output_type": "stream",
     "text": [
      "Hello, Naimur! Your'e Running Python 3 in Jupyter.\n",
      "Welcome to the New world\n"
     ]
    }
   ],
   "source": [
    "#First program\n",
    "'''\n",
    "This \n",
    "is \n",
    "a \n",
    "multiple\n",
    "line\n",
    "comment\n",
    "'''\n",
    "print (\"Hello, Naimur! Your'e Running Python 3 in Jupyter.\\nWelcome to the New world\")\n"
   ]
  },
  {
   "cell_type": "code",
   "execution_count": null,
   "id": "71a2524f-5dd1-4030-8d48-aad116a90bf8",
   "metadata": {},
   "outputs": [],
   "source": []
  }
 ],
 "metadata": {
  "kernelspec": {
   "display_name": "Python [conda env:base] *",
   "language": "python",
   "name": "conda-base-py"
  },
  "language_info": {
   "codemirror_mode": {
    "name": "ipython",
    "version": 3
   },
   "file_extension": ".py",
   "mimetype": "text/x-python",
   "name": "python",
   "nbconvert_exporter": "python",
   "pygments_lexer": "ipython3",
   "version": "3.13.5"
  }
 },
 "nbformat": 4,
 "nbformat_minor": 5
}
