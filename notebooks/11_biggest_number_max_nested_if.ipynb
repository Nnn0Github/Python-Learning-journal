{
 "cells": [
  {
   "cell_type": "code",
   "execution_count": null,
   "id": "c519c402-a621-4849-890c-f73a5a601d7b",
   "metadata": {},
   "outputs": [],
   "source": [
    "#Biggest Number Finder Using max() and Nested if\n",
    "\n",
    "This notebook demonstrates two approaches to finding the largest of three numbers:\n",
    "\n",
    "- **Method 1**: Using Python’s built-in `max()` function\n",
    "- **Method 2**: Using nested `if` statements for manual comparison\n",
    "\n",
    "Part of my Python learning journal—where logic branches out and comparisons lead to clarity.\n"
   ]
  },
  {
   "cell_type": "code",
   "execution_count": 2,
   "id": "2daf464d-c97a-41ec-b107-92231d175071",
   "metadata": {},
   "outputs": [
    {
     "name": "stdout",
     "output_type": "stream",
     "text": [
      "Biggest number is: 500\n"
     ]
    }
   ],
   "source": [
    "#Finding the Biggest Number Using max() and Nested if\n",
    "\n",
    "# Method 1: Using max()\n",
    "num1 = 2\n",
    "num2 = 5\n",
    "num3 = 3\n",
    "\n",
    "biggest = max(num1, num2, num3)\n",
    "\n",
    "if biggest == num1:\n",
    "    print(\"Biggest number is number 1:\", num1)\n",
    "elif biggest == num2:\n",
    "    print(\"Biggest number is number 2:\", num2)\n",
    "elif biggest == num3:\n",
    "    print(\"Biggest number is number 3:\", num3)\n",
    "    "
   ]
  },
  {
   "cell_type": "code",
   "execution_count": 3,
   "id": "c739b767-aec1-4047-bb03-b32f616f32d7",
   "metadata": {},
   "outputs": [
    {
     "name": "stdout",
     "output_type": "stream",
     "text": [
      "Biggest number is: 500\n"
     ]
    }
   ],
   "source": [
    "# Method 2: Using nested if statements\n",
    "num1 = 500\n",
    "num2 = -10\n",
    "num3 = 100\n",
    "\n",
    "if num1 > num2:\n",
    "    if num1 > num3:\n",
    "        print(\"Biggest number is:\", num1)\n",
    "    else:\n",
    "        print(\"Biggest number is:\", num3)\n",
    "elif num2 > num1:\n",
    "    if num2 > num3:\n",
    "        print(\"Biggest number is:\", num2)\n",
    "    else:\n",
    "        print(\"Biggest number is:\", num3)"
   ]
  }
 ],
 "metadata": {
  "kernelspec": {
   "display_name": "Python 3 (ipykernel)",
   "language": "python",
   "name": "python3"
  },
  "language_info": {
   "codemirror_mode": {
    "name": "ipython",
    "version": 3
   },
   "file_extension": ".py",
   "mimetype": "text/x-python",
   "name": "python",
   "nbconvert_exporter": "python",
   "pygments_lexer": "ipython3",
   "version": "3.13.5"
  }
 },
 "nbformat": 4,
 "nbformat_minor": 5
}
