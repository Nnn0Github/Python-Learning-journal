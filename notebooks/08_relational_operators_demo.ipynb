{
 "cells": [
  {
   "cell_type": "code",
   "execution_count": 1,
   "id": "b057c288-2412-4e23-a0b6-527b81954f0d",
   "metadata": {},
   "outputs": [
    {
     "name": "stdout",
     "output_type": "stream",
     "text": [
      "30 < 40: True\n",
      "30 > 40: False\n",
      "30 <= 40: True\n",
      "30 >= 40: False\n",
      "30 == 40: False\n",
      "30 != 40: True\n",
      "\"hellow\" == \"hellow\": True\n",
      "\"hellow\" == \"hi\": False\n"
     ]
    }
   ],
   "source": [
    "# 🔍 Relational Operators in Python\n",
    "\n",
    "# Numeric comparisons\n",
    "print(\"30 < 40:\", 30 < 40)\n",
    "print(\"30 > 40:\", 30 > 40)\n",
    "print(\"30 <= 40:\", 30 <= 40)\n",
    "print(\"30 >= 40:\", 30 >= 40)\n",
    "print(\"30 == 40:\", 30 == 40)\n",
    "print(\"30 != 40:\", 30 != 40)\n",
    "\n",
    "# String comparisons\n",
    "print('\"hellow\" == \"hellow\":', \"hellow\" == \"hellow\")\n",
    "print('\"hellow\" == \"hi\":', \"hellow\" == \"hi\")\n"
   ]
  },
  {
   "cell_type": "code",
   "execution_count": null,
   "id": "74a54f0f-9bb4-4423-b34c-f86fc3e0b0a7",
   "metadata": {},
   "outputs": [],
   "source": [
    "# 🔍 Relational Operators in Python\n",
    "\n",
    "This notebook demonstrates how relational operators work in Python.  \n",
    "It covers:\n",
    "\n",
    "- Numeric comparisons: `<`, `>`, `<=`, `>=`, `==`, `!=`\n",
    "- String comparisons using `==`\n",
    "\n",
    "Relational operators return `True` or `False` based on the condition.  \n",
    "Part of my Python learning journal—where logic meets clarity and every comparison tells a story.\n"
   ]
  }
 ],
 "metadata": {
  "kernelspec": {
   "display_name": "Python 3 (ipykernel)",
   "language": "python",
   "name": "python3"
  },
  "language_info": {
   "codemirror_mode": {
    "name": "ipython",
    "version": 3
   },
   "file_extension": ".py",
   "mimetype": "text/x-python",
   "name": "python",
   "nbconvert_exporter": "python",
   "pygments_lexer": "ipython3",
   "version": "3.13.5"
  }
 },
 "nbformat": 4,
 "nbformat_minor": 5
}
