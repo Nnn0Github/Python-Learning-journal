{
 "cells": [
  {
   "cell_type": "code",
   "execution_count": 1,
   "id": "25134ed3-cd36-4882-b846-98ea310aae44",
   "metadata": {},
   "outputs": [
    {
     "name": "stdout",
     "output_type": "stream",
     "text": [
      "max(20, 10, 30): 30\n",
      "min(30, 40, 100): 30\n",
      "abs(-4): 4\n",
      "pow(2, 3): 8.0\n",
      "sqrt(25): 5.0\n",
      "round(5.9): 6\n",
      "floor(6.8): 6\n",
      "ceil(6.8): 7\n"
     ]
    }
   ],
   "source": [
    "# Exploring Python's Built-in Math Functions\n",
    "\n",
    "from math import *\n",
    "\n",
    "# Maximum and Minimum\n",
    "print(\"max(20, 10, 30):\", max(20, 10, 30))\n",
    "print(\"min(30, 40, 100):\", min(30, 40, 100))\n",
    "\n",
    "# Absolute Value\n",
    "print(\"abs(-4):\", abs(-4))\n",
    "\n",
    "# Power and Square Root\n",
    "print(\"pow(2, 3):\", pow(2, 3))       \n",
    "print(\"sqrt(25):\", sqrt(25))         \n",
    "\n",
    "# Rounding\n",
    "print(\"round(5.9):\", round(5.9))\n",
    "\n",
    "# Floor and Ceiling\n",
    "print(\"floor(6.8):\", floor(6.8))\n",
    "print(\"ceil(6.8):\", ceil(6.8))\n"
   ]
  },
  {
   "cell_type": "code",
   "execution_count": null,
   "id": "6083bd20-6154-4ae2-91a9-67301385e2a9",
   "metadata": {},
   "outputs": [],
   "source": [
    "# Python Math Functions Reference\n",
    "\n",
    "This notebook demonstrates commonly used functions from Python's built-in `math` module.  \n",
    "It covers:\n",
    "\n",
    "- `max()` and `min()` for finding extremes\n",
    "- `abs()` for absolute value\n",
    "- `pow()` and `sqrt()` for power and square root\n",
    "- `round()` for rounding numbers\n",
    "- `floor()` and `ceil()` for rounding down and up\n",
    "\n",
    "Part of my Python learning journal.\n"
   ]
  }
 ],
 "metadata": {
  "kernelspec": {
   "display_name": "Python 3 (ipykernel)",
   "language": "python",
   "name": "python3"
  },
  "language_info": {
   "codemirror_mode": {
    "name": "ipython",
    "version": 3
   },
   "file_extension": ".py",
   "mimetype": "text/x-python",
   "name": "python",
   "nbconvert_exporter": "python",
   "pygments_lexer": "ipython3",
   "version": "3.13.5"
  }
 },
 "nbformat": 4,
 "nbformat_minor": 5
}
