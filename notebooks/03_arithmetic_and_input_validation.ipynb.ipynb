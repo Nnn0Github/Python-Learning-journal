{
 "cells": [
  {
   "cell_type": "code",
   "execution_count": 1,
   "id": "fbc322b3-cb9f-43a5-8815-64f272d5b1ab",
   "metadata": {},
   "outputs": [
    {
     "name": "stdout",
     "output_type": "stream",
     "text": [
      "Addition: 19\n",
      "Subtraction: 1\n",
      "Multiplication: 90\n",
      "Division: 1.1111111111111112\n",
      "Floor Division: 1\n",
      "Exponentiation: 1000000000\n"
     ]
    }
   ],
   "source": [
    "#Arithmatic Operations \n",
    "a = 10\n",
    "b = 9\n",
    "\n",
    "print(\"Addition:\", a + b)\n",
    "print(\"Subtraction:\", a - b)\n",
    "print(\"Multiplication:\", a * b)\n",
    "print(\"Division:\", a / b)\n",
    "print(\"Floor Division:\", a // b)\n",
    "print(\"Exponentiation:\", a ** b)"
   ]
  },
  {
   "cell_type": "code",
   "execution_count": 11,
   "id": "b2cc4214-d4d1-4ceb-9a53-777dbded8787",
   "metadata": {},
   "outputs": [
    {
     "name": "stdin",
     "output_type": "stream",
     "text": [
      "Enter your name (letters and spaces only):  md nahid\n",
      "Enter your age (numbers only):  24\n",
      "Enter your CGPA (e.g., 3.75):  2.75\n"
     ]
    },
    {
     "name": "stdout",
     "output_type": "stream",
     "text": [
      "\n",
      "📋 Information Summary\n",
      "----------------------\n",
      "Name: Md Nahid\n",
      "Age: 24\n",
      "CGPA: 2.75\n"
     ]
    }
   ],
   "source": [
    "# User Input Section with Validation\n",
    "name = input(\"Enter your name (letters and spaces only): \").strip().title()\n",
    "if not name.replace(\" \", \"\").isalpha():\n",
    "    print(\"That doesn't look like a name! 😅\")\n",
    "else:\n",
    "    age = input(\"Enter your age (numbers only): \").strip()\n",
    "    if not age.isdigit():\n",
    "        print(\"Hmm... that doesn't look like a valid age 🤔\")\n",
    "    else:\n",
    "        gpa = input(\"Enter your CGPA (e.g., 3.75): \").strip()\n",
    "        if not gpa.replace('.', '', 1).isdigit():\n",
    "            print(\"Nice try, but that doesn't look like a CGPA 😄\")\n",
    "        else:\n",
    "            print(\"\\n Information Summary\")\n",
    "            print(\"----------------------\")\n",
    "            print(\"Name:\", name)\n",
    "            print(\"Age:\", age)\n",
    "            print(\"CGPA:\", gpa)"
   ]
  },
  {
   "cell_type": "code",
   "execution_count": null,
   "id": "1f2dbbaf-4d49-4fbb-a4ca-d72c9b4674b9",
   "metadata": {},
   "outputs": [],
   "source": [
    "### What I Learned\n",
    "\n",
    "- `isalpha()` only accepts letters—so `\"Md Nahid\"` fails unless we remove the space.\n",
    "- `isdigit()` works for whole numbers like age, but not decimals.\n",
    "- `replace('.', '', 1).isdigit()` lets us validate CGPAs like `3.75` without accepting weird inputs like `3.7.5`.\n",
    "\n",
    "---\n",
    "\n",
    "### Funny Moment\n",
    "\n",
    "Typed `\"Md Nahid\"` as a name and got:\n",
    "> That doesn't look like a name! 😄\n",
    "\n",
    "Turns out `.isalpha()` doesn’t like spaces. Fixed it with:\n",
    "```python\n",
    "name.replace(\" \", \"\").isalpha()"
   ]
  },
  {
   "cell_type": "code",
   "execution_count": null,
   "id": "b4f1a04b-6121-4a54-ae6e-a93a9576de30",
   "metadata": {},
   "outputs": [],
   "source": []
  }
 ],
 "metadata": {
  "kernelspec": {
   "display_name": "Python [conda env:base] *",
   "language": "python",
   "name": "conda-base-py"
  },
  "language_info": {
   "codemirror_mode": {
    "name": "ipython",
    "version": 3
   },
   "file_extension": ".py",
   "mimetype": "text/x-python",
   "name": "python",
   "nbconvert_exporter": "python",
   "pygments_lexer": "ipython3",
   "version": "3.13.5"
  }
 },
 "nbformat": 4,
 "nbformat_minor": 5
}
