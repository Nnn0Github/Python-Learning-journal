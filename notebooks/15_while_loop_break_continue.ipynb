{
 "cells": [
  {
   "cell_type": "code",
   "execution_count": null,
   "id": "0503df34-6844-454c-80b3-887ef6f9c93a",
   "metadata": {},
   "outputs": [],
   "source": [
    "# While Loop with Break and Continue\n",
    "\n",
    "This notebook demonstrates how to use `break` and `continue` inside a `while` loop in Python.\n",
    "\n",
    "- `continue` skips the current iteration (used here to skip 25)\n",
    "- `break` exits the loop early (used here to stop at 40)\n",
    "\n",
    "Part of my Python learning journal—where control flow takes control, and loops learn to pause or quit.\n"
   ]
  },
  {
   "cell_type": "code",
   "execution_count": 1,
   "id": "ef6fe86c-03c3-4765-9145-506cd5082a09",
   "metadata": {},
   "outputs": [
    {
     "name": "stdout",
     "output_type": "stream",
     "text": [
      "Starting loop\n",
      "1\n",
      "2\n",
      "3\n",
      "4\n",
      "5\n",
      "6\n",
      "7\n",
      "8\n",
      "9\n",
      "10\n",
      "11\n",
      "12\n",
      "13\n",
      "14\n",
      "15\n",
      "16\n",
      "17\n",
      "18\n",
      "19\n",
      "20\n",
      "21\n",
      "22\n",
      "23\n",
      "24\n",
      "Skipping 25 using continue\n",
      "26\n",
      "27\n",
      "28\n",
      "29\n",
      "30\n",
      "31\n",
      "32\n",
      "33\n",
      "34\n",
      "35\n",
      "36\n",
      "37\n",
      "38\n",
      "39\n",
      "Breaking loop at 40\n",
      "Loop ended\n"
     ]
    }
   ],
   "source": [
    "# While Loop with Break and Continue\n",
    "\n",
    "i = 1\n",
    "print(\"Starting loop\")\n",
    "\n",
    "while i <= 50:\n",
    "    if i == 25:\n",
    "        print(\"Skipping 25 using continue\")\n",
    "        i += 1\n",
    "        continue\n",
    "    if i == 40:\n",
    "        print(\"Breaking loop at 40\")\n",
    "        break\n",
    "    print(i)\n",
    "    i += 1\n",
    "\n",
    "print(\"Loop ended\")\n"
   ]
  },
  {
   "cell_type": "code",
   "execution_count": null,
   "id": "c9f7ee28-7510-4d1a-b345-ad92e079be2d",
   "metadata": {},
   "outputs": [],
   "source": []
  }
 ],
 "metadata": {
  "kernelspec": {
   "display_name": "Python 3 (ipykernel)",
   "language": "python",
   "name": "python3"
  },
  "language_info": {
   "codemirror_mode": {
    "name": "ipython",
    "version": 3
   },
   "file_extension": ".py",
   "mimetype": "text/x-python",
   "name": "python",
   "nbconvert_exporter": "python",
   "pygments_lexer": "ipython3",
   "version": "3.13.5"
  }
 },
 "nbformat": 4,
 "nbformat_minor": 5
}
