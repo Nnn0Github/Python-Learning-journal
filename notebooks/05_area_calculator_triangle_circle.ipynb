{
 "cells": [
  {
   "cell_type": "code",
   "execution_count": 5,
   "id": "082a43d5-f91a-4e06-a611-f33642d6382c",
   "metadata": {},
   "outputs": [
    {
     "name": "stdout",
     "output_type": "stream",
     "text": [
      "🔺 Triangle\n",
      "............\n"
     ]
    },
    {
     "name": "stdin",
     "output_type": "stream",
     "text": [
      "Enter base:  20.5\n",
      "Enter height:  5.6\n"
     ]
    },
    {
     "name": "stdout",
     "output_type": "stream",
     "text": [
      "The area of the triangle is: 57.4\n",
      "\n",
      " Circle\n",
      "...........\n"
     ]
    },
    {
     "name": "stdin",
     "output_type": "stream",
     "text": [
      "Enter radius:  30.9\n"
     ]
    },
    {
     "name": "stdout",
     "output_type": "stream",
     "text": [
      "✅ The area of the circle is: 2999.631096\n"
     ]
    }
   ],
   "source": [
    "# 🔺 Triangle Area Calculation\n",
    "print(\"🔺 Triangle\")\n",
    "print(\"............\")\n",
    "base = float(input(\"Enter base: \"))\n",
    "height = float(input(\"Enter height: \"))\n",
    "triangle_area = 0.5 * base * height\n",
    "print(\"The area of the triangle is:\", triangle_area)\n",
    "\n",
    "# Circle Area Calculation\n",
    "print(\"\\n Circle\")\n",
    "print(\"...........\")\n",
    "radius = float(input(\"Enter radius: \"))\n",
    "circle_area = 3.1416 * radius * radius\n",
    "print(\"✅ The area of the circle is:\", circle_area)\n"
   ]
  },
  {
   "cell_type": "code",
   "execution_count": null,
   "id": "f818d9e7-0bc4-4e0e-a2c4-540b8677dc4b",
   "metadata": {},
   "outputs": [],
   "source": [
    "# Area Calculator: Triangle & Circle\n",
    "\n",
    "This notebook calculates the area of two geometric shapes using user input:\n",
    "- **Triangle**: Uses base and height with the formula `0.5 × base × height`\n",
    "- **Circle**: Uses radius with the formula `π × radius²`\n",
    "\n",
    "It demonstrates:\n",
    "- `float()` type casting for input\n",
    "- Basic arithmetic operations\n",
    "- Clean output formatting\n",
    "\n",
    "Part of my Python learning journal—where geometry meets code and typos become teachable moments \n"
   ]
  }
 ],
 "metadata": {
  "kernelspec": {
   "display_name": "Python 3 (ipykernel)",
   "language": "python",
   "name": "python3"
  },
  "language_info": {
   "codemirror_mode": {
    "name": "ipython",
    "version": 3
   },
   "file_extension": ".py",
   "mimetype": "text/x-python",
   "name": "python",
   "nbconvert_exporter": "python",
   "pygments_lexer": "ipython3",
   "version": "3.13.5"
  }
 },
 "nbformat": 4,
 "nbformat_minor": 5
}
