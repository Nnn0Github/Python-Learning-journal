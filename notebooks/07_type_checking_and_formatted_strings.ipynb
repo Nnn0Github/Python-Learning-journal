{
 "cells": [
  {
   "cell_type": "code",
   "execution_count": 1,
   "id": "2c15c6de-0565-4373-ab71-3f012b1cd2b8",
   "metadata": {},
   "outputs": [
    {
     "name": "stdout",
     "output_type": "stream",
     "text": [
      "Type of a: <class 'float'>\n",
      "Type of b: <class 'int'>\n",
      "Type of c: <class 'str'>\n"
     ]
    },
    {
     "name": "stdin",
     "output_type": "stream",
     "text": [
      "Enter Number 1:  50\n",
      "Enter Number 2:  25\n"
     ]
    },
    {
     "name": "stdout",
     "output_type": "stream",
     "text": [
      "50 + 25 = 75\n",
      "Naimur Rahman. 01863563717\n"
     ]
    }
   ],
   "source": [
    "#  Type Checking and Formatted Strings in Python\n",
    "\n",
    "# Type checking for different variables\n",
    "a = 0.55\n",
    "b = 12211\n",
    "c = \"Nahid\"\n",
    "\n",
    "print(\"Type of a:\", type(a))   # float\n",
    "print(\"Type of b:\", type(b))   # int\n",
    "print(\"Type of c:\", type(c))   # str\n",
    "\n",
    "# Formatted string using f-string\n",
    "num1 = input(\"Enter Number 1: \")\n",
    "num2 = input(\"Enter Number 2: \")\n",
    "\n",
    "# Note: input() returns strings, so concatenation happens unless converted\n",
    "print(f\"{num1} + {num2} = {int(num1) + int(num2)}\")  # Explicit type casting\n",
    "\n",
    "# Output formatting using end parameter\n",
    "print(\"Naimur Rahman.\", end=\" \")\n",
    "print(\"01863563717\")\n"
   ]
  },
  {
   "cell_type": "code",
   "execution_count": null,
   "id": "41b8bc8e-f9ef-4648-9812-0b83be4d8268",
   "metadata": {},
   "outputs": [],
   "source": [
    "# Type Checking and Formatted Strings\n",
    "\n",
    "This notebook demonstrates:\n",
    "- How to check the type of variables using `type()`\n",
    "- How to use **f-strings** for clean, readable output\n",
    "- How to control print formatting using the `end` parameter\n",
    "- How to fix string concatenation issues by using `int()` for type casting\n",
    "\n",
    "Part of my Python learning journal—where formatting meets function and every output tells a story.\n"
   ]
  }
 ],
 "metadata": {
  "kernelspec": {
   "display_name": "Python 3 (ipykernel)",
   "language": "python",
   "name": "python3"
  },
  "language_info": {
   "codemirror_mode": {
    "name": "ipython",
    "version": 3
   },
   "file_extension": ".py",
   "mimetype": "text/x-python",
   "name": "python",
   "nbconvert_exporter": "python",
   "pygments_lexer": "ipython3",
   "version": "3.13.5"
  }
 },
 "nbformat": 4,
 "nbformat_minor": 5
}
