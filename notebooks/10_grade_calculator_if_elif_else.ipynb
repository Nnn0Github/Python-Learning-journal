{
 "cells": [
  {
   "cell_type": "code",
   "execution_count": 1,
   "id": "2550b980-1580-48da-9dd1-e907de81de37",
   "metadata": {},
   "outputs": [
    {
     "name": "stdin",
     "output_type": "stream",
     "text": [
      "Enter obtained mark:  65\n"
     ]
    },
    {
     "name": "stdout",
     "output_type": "stream",
     "text": [
      "Grade: A-\n"
     ]
    }
   ],
   "source": [
    "#Grade Calculator Using if-elif-else\n",
    "\n",
    "mark = int(input(\"Enter obtained mark: \"))\n",
    "\n",
    "if mark >= 80:\n",
    "    print(\"Grade: A+\")\n",
    "elif mark >= 70:\n",
    "    print(\"Grade: A\")\n",
    "elif mark >= 60:\n",
    "    print(\"Grade: A-\")\n",
    "elif mark >= 50:\n",
    "    print(\"Grade: B\")\n",
    "elif mark >= 40:\n",
    "    print(\"Grade: C\")\n",
    "else:\n",
    "    print(\"Grade: Fail\")\n"
   ]
  },
  {
   "cell_type": "code",
   "execution_count": null,
   "id": "12cb4bfe-8a00-4e92-b659-3841334bfa64",
   "metadata": {},
   "outputs": [],
   "source": [
    "# Grade Calculator Using if-elif-else\n",
    "\n",
    "This notebook demonstrates how to use Python's `if-elif-else` control structure to assign grades based on a student's mark.\n",
    "\n",
    "Grading logic:\n",
    "- `80 and above` → A+\n",
    "- `70–79` → A\n",
    "- `60–69` → A-\n",
    "- `50–59` → B\n",
    "- `40–49` → C\n",
    "- Below `40` → Fail\n",
    "\n",
    "Part of my Python learning journal—where logic meets feedback and every condition leads to a grade.\n"
   ]
  }
 ],
 "metadata": {
  "kernelspec": {
   "display_name": "Python 3 (ipykernel)",
   "language": "python",
   "name": "python3"
  },
  "language_info": {
   "codemirror_mode": {
    "name": "ipython",
    "version": 3
   },
   "file_extension": ".py",
   "mimetype": "text/x-python",
   "name": "python",
   "nbconvert_exporter": "python",
   "pygments_lexer": "ipython3",
   "version": "3.13.5"
  }
 },
 "nbformat": 4,
 "nbformat_minor": 5
}
