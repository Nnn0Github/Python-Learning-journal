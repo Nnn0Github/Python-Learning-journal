{
 "cells": [
  {
   "cell_type": "code",
   "execution_count": 3,
   "id": "08bd047e-17a1-4320-851b-8c27e4d19c63",
   "metadata": {},
   "outputs": [
    {
     "name": "stdin",
     "output_type": "stream",
     "text": [
      "Enter the first number:  20\n",
      "Enter the second number:  5\n"
     ]
    },
    {
     "name": "stdout",
     "output_type": "stream",
     "text": [
      "The summation is: 25\n",
      "The difference is: 15\n",
      "The product is: 100\n",
      "The quotient is: 4.0\n",
      "The modulo (remainder) is: 0\n",
      "The power (a^b) is: 3200000\n"
     ]
    }
   ],
   "source": [
    "# Prompt user for two numbers and convert them from string to integer\n",
    "a = int(input(\"Enter the first number: \"))\n",
    "b = int(input(\"Enter the second number: \"))\n",
    "\n",
    "#arithmetic operations\n",
    "summation = a + b\n",
    "difference = a - b\n",
    "product = a * b\n",
    "quotient = a / b if b != 0 else \"undefined (division by zero)\"\n",
    "modulo = a % b if b != 0 else \"undefined (modulo by zero)\"\n",
    "power = a ** b\n",
    "\n",
    "# Display results\n",
    "print(\"The summation is:\", summation)\n",
    "print(\"The difference is:\", difference)\n",
    "print(\"The product is:\", product)\n",
    "print(\"The quotient is:\", quotient)\n",
    "print(\"The modulo (remainder) is:\", modulo)\n",
    "print(\"The power (a^b) is:\", power)\n"
   ]
  },
  {
   "cell_type": "code",
   "execution_count": null,
   "id": "57158517-03f0-4f99-8f81-d75efbd650c4",
   "metadata": {},
   "outputs": [],
   "source": []
  }
 ],
 "metadata": {
  "kernelspec": {
   "display_name": "Python 3 (ipykernel)",
   "language": "python",
   "name": "python3"
  },
  "language_info": {
   "codemirror_mode": {
    "name": "ipython",
    "version": 3
   },
   "file_extension": ".py",
   "mimetype": "text/x-python",
   "name": "python",
   "nbconvert_exporter": "python",
   "pygments_lexer": "ipython3",
   "version": "3.13.5"
  }
 },
 "nbformat": 4,
 "nbformat_minor": 5
}
