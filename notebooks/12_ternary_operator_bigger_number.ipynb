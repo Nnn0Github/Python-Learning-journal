{
 "cells": [
  {
   "cell_type": "code",
   "execution_count": null,
   "id": "264f45da-4fc9-48d5-a3f9-d031d3913e27",
   "metadata": {},
   "outputs": [],
   "source": [
    "This notebook explores Python’s ternary operator through multiple examples:\n",
    "- Comparing two numbers\n",
    "- Checking pass/fail\n",
    "- Determining odd/even"
   ]
  },
  {
   "cell_type": "code",
   "execution_count": 2,
   "id": "75e23e07-eaf8-48e0-a0f9-65b78b81b9eb",
   "metadata": {},
   "outputs": [
    {
     "name": "stdin",
     "output_type": "stream",
     "text": [
      "Enter first number:  50\n",
      "Enter second number:  60\n"
     ]
    },
    {
     "name": "stdout",
     "output_type": "stream",
     "text": [
      "The bigger number is: 60\n"
     ]
    }
   ],
   "source": [
    "num1 = int(input(\"Enter first number: \"))\n",
    "num2 = int(input(\"Enter second number: \"))\n",
    "mx = num1 if num1 > num2 else num2\n",
    "print(f\"The bigger number is: {mx}\")\n"
   ]
  },
  {
   "cell_type": "code",
   "execution_count": 3,
   "id": "a9a5e5f5-e12b-4682-989d-b7b8714f8b3f",
   "metadata": {},
   "outputs": [
    {
     "name": "stdin",
     "output_type": "stream",
     "text": [
      "Enter your mark:  85\n"
     ]
    },
    {
     "name": "stdout",
     "output_type": "stream",
     "text": [
      "Result: Pass\n"
     ]
    }
   ],
   "source": [
    "mark = int(input(\"Enter your mark: \"))\n",
    "result = \"Pass\" if mark >= 33 else \"Fail\"\n",
    "print(f\"Result: {result}\")\n"
   ]
  },
  {
   "cell_type": "code",
   "execution_count": 4,
   "id": "032e5cf7-91f0-4e6e-ab19-bd29254b9012",
   "metadata": {},
   "outputs": [
    {
     "name": "stdin",
     "output_type": "stream",
     "text": [
      "Enter a number:  11\n"
     ]
    },
    {
     "name": "stdout",
     "output_type": "stream",
     "text": [
      "The number is: Odd\n"
     ]
    }
   ],
   "source": [
    "num = int(input(\"Enter a number: \"))\n",
    "parity = \"Even\" if num % 2 == 0 else \"Odd\"\n",
    "print(f\"The number is: {parity}\")\n"
   ]
  }
 ],
 "metadata": {
  "kernelspec": {
   "display_name": "Python 3 (ipykernel)",
   "language": "python",
   "name": "python3"
  },
  "language_info": {
   "codemirror_mode": {
    "name": "ipython",
    "version": 3
   },
   "file_extension": ".py",
   "mimetype": "text/x-python",
   "name": "python",
   "nbconvert_exporter": "python",
   "pygments_lexer": "ipython3",
   "version": "3.13.5"
  }
 },
 "nbformat": 4,
 "nbformat_minor": 5
}
