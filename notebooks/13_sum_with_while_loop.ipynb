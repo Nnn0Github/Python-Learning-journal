{
 "cells": [
  {
   "cell_type": "code",
   "execution_count": null,
   "id": "b75bb868-7c34-49c6-854b-83c2ee10c95e",
   "metadata": {},
   "outputs": [],
   "source": [
    "#Sum of Numbers from 1 to 10 Using a While Loop\n",
    "\n",
    "This notebook demonstrates how to use a `while` loop in Python to calculate the sum of numbers from 1 to 100.\n",
    "\n",
    "Key concepts:\n",
    "- Loop initialization (i = 1)\n",
    "- Loop condition (i <= 10)\n",
    "- Accumulating total using total += i\n",
    "- Incrementing i to avoid infinite loop\n",
    "\n",
    "Part of my Python learning journal—where repetition leads to results and loops build logic.\n"
   ]
  },
  {
   "cell_type": "code",
   "execution_count": 2,
   "id": "ef309a3e-d844-47a6-9d72-35a4a7bc9e65",
   "metadata": {},
   "outputs": [
    {
     "name": "stdout",
     "output_type": "stream",
     "text": [
      "Sum of numbers from 1 to 100 is: 5050\n"
     ]
    }
   ],
   "source": [
    "#Sum of Numbers from 1 to 10 Using a While Loop\n",
    "\n",
    "i = 1\n",
    "total = 0\n",
    "\n",
    "while i <= 100:\n",
    "    total += i\n",
    "    i += 1\n",
    "\n",
    "print(f\"Sum of numbers from 1 to 10 is: {total}\")\n"
   ]
  }
 ],
 "metadata": {
  "kernelspec": {
   "display_name": "Python 3 (ipykernel)",
   "language": "python",
   "name": "python3"
  },
  "language_info": {
   "codemirror_mode": {
    "name": "ipython",
    "version": 3
   },
   "file_extension": ".py",
   "mimetype": "text/x-python",
   "name": "python",
   "nbconvert_exporter": "python",
   "pygments_lexer": "ipython3",
   "version": "3.13.5"
  }
 },
 "nbformat": 4,
 "nbformat_minor": 5
}
