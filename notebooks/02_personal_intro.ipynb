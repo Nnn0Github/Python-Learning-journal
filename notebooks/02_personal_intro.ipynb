{
 "cells": [
  {
   "cell_type": "code",
   "execution_count": 1,
   "id": "3e2aa66c-8620-4530-a54a-6cdee5c4f1e2",
   "metadata": {},
   "outputs": [
    {
     "name": "stdout",
     "output_type": "stream",
     "text": [
      "I'm Nahid\n",
      "Md. Rahman Nahid\n",
      "Currently studying at City University and scored CGPA: 3.0\n"
     ]
    }
   ],
   "source": [
    "# Personal info variables\n",
    "name = \"Nahid\"\n",
    "age = 24\n",
    "cgpa = 3.00\n",
    "\n",
    "# Output statements\n",
    "print(\"I'm \" + name)  # Introduction of myself\n",
    "print(\"Md. Rahman Nahid\")  # Full name printed directly\n",
    "print(\"Currently studying at City University and scored CGPA:\", cgpa)  # Academic info\n"
   ]
  },
  {
   "cell_type": "code",
   "execution_count": null,
   "id": "8f9a4257-d8ed-46e1-a3c7-61272c2b38a1",
   "metadata": {},
   "outputs": [],
   "source": [
    "## 🧑‍🎓 Personal Info Script\n",
    "\n",
    "This notebook stores basic personal information using Python variables and prints a short introduction.  \n",
    "It helped me practice:\n",
    "- String concatenation\n",
    "- Printing variables\n",
    "- Mixing text with numbers in output\n",
    "\n",
    "Mistake I caught: I originally typed “Studing” instead of “Studying”—fixed it to keep things clean 😅\n"
   ]
  }
 ],
 "metadata": {
  "kernelspec": {
   "display_name": "Python [conda env:base] *",
   "language": "python",
   "name": "conda-base-py"
  },
  "language_info": {
   "codemirror_mode": {
    "name": "ipython",
    "version": 3
   },
   "file_extension": ".py",
   "mimetype": "text/x-python",
   "name": "python",
   "nbconvert_exporter": "python",
   "pygments_lexer": "ipython3",
   "version": "3.13.5"
  }
 },
 "nbformat": 4,
 "nbformat_minor": 5
}
