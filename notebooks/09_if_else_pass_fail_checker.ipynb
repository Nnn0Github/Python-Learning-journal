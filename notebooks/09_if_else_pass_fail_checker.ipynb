{
 "cells": [
  {
   "cell_type": "code",
   "execution_count": 1,
   "id": "fa57370c-a81d-49dc-822b-6519997b9b4a",
   "metadata": {},
   "outputs": [
    {
     "name": "stdin",
     "output_type": "stream",
     "text": [
      "Enter obtained mark:  70\n"
     ]
    },
    {
     "name": "stdout",
     "output_type": "stream",
     "text": [
      "Pass\n",
      "Congratulations!\n"
     ]
    }
   ],
   "source": [
    "#Pass/Fail Checker Using if-else Statement\n",
    "\n",
    "mark = int(input(\"Enter obtained mark: \"))\n",
    "\n",
    "if mark >= 33:\n",
    "    print(\"Pass\")\n",
    "    print(\"Congratulations!\")\n",
    "else:\n",
    "    print(\"Failed\")\n"
   ]
  },
  {
   "cell_type": "code",
   "execution_count": null,
   "id": "bb66fe36-b9b2-44d0-8271-f340722e9223",
   "metadata": {},
   "outputs": [],
   "source": [
    "#Pass/Fail Checker Using if-else\n",
    "\n",
    "This notebook demonstrates a basic `if-else` control statement in Python.  \n",
    "It checks whether a student has passed based on their inputted mark:\n",
    "\n",
    "- If the mark is **33 or above**, it prints `\"Pass\"` and `\"Congratulations!\"`\n",
    "- Otherwise, it prints `\"Failed\"`\n",
    "\n",
    "This is part of my Python learning journal—where every condition leads to clarity and every branch tells a story.\n"
   ]
  }
 ],
 "metadata": {
  "kernelspec": {
   "display_name": "Python 3 (ipykernel)",
   "language": "python",
   "name": "python3"
  },
  "language_info": {
   "codemirror_mode": {
    "name": "ipython",
    "version": 3
   },
   "file_extension": ".py",
   "mimetype": "text/x-python",
   "name": "python",
   "nbconvert_exporter": "python",
   "pygments_lexer": "ipython3",
   "version": "3.13.5"
  }
 },
 "nbformat": 4,
 "nbformat_minor": 5
}
